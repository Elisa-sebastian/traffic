{
 "cells": [
  {
   "cell_type": "markdown",
   "metadata": {
    "id": "oEDV0cn6_Suu"
   },
   "source": [
    "# Reading image files"
   ]
  },
  {
   "cell_type": "code",
   "execution_count": 3,
   "metadata": {
    "id": "byhOY7bG_SvA"
   },
   "outputs": [],
   "source": [
    "import datetime\n",
    "import glob\n",
    "import os\n",
    "import pathlib\n",
    "import yaml\n",
    "\n",
    "import matplotlib.pyplot as plt\n",
    "import numpy as np\n",
    "import pandas as pd\n",
    "import tensorflow as tf\n",
    "\n",
    "from keras.utils import to_categorical\n",
    "from keras.models import Sequential, load_model\n",
    "from keras.layers import Conv2D, MaxPool2D, Dense, Flatten, Dropout\n",
    "from PIL import Image\n",
    "from sklearn.model_selection import train_test_split\n"
   ]
  },
  {
   "cell_type": "code",
   "execution_count": 4,
   "metadata": {},
   "outputs": [],
   "source": [
    "with open('parameters.yaml') as yaml_data:\n",
    "    params = yaml.safe_load(yaml_data)\n",
    "    \n",
    "TRAINING_CSV_PATH = params['paths']['training_images']\n",
    "TEST_IMAGES_PATH = params['paths']['test_images']\n",
    "TEST_GT = params['paths']['test_GT']\n",
    "save_model_path = params['paths']['save_model_path']\n",
    "load_model_path = params['paths']['load_model_path']\n",
    "\n",
    "IMAGE_WIDTH = params['parameters']['IMAGE_WIDTH']\n",
    "IMAGE_HEIGHT = params['parameters']['IMAGE_HEIGHT']\n",
    "\n"
   ]
  },
  {
   "cell_type": "code",
   "execution_count": 5,
   "metadata": {
    "colab": {
     "base_uri": "https://localhost:8080/",
     "height": 35
    },
    "id": "Hb1czacj_SvE",
    "outputId": "5b525b50-8595-4373-b9fb-421eafca3410"
   },
   "outputs": [
    {
     "data": {
      "text/plain": [
       "'../data/raw/GTSRB_Final_Training_Images/GTSRB/Final_Training/Images/*'"
      ]
     },
     "execution_count": 5,
     "metadata": {},
     "output_type": "execute_result"
    }
   ],
   "source": [
    "os.path.dirname(TRAINING_CSV_PATH)"
   ]
  },
  {
   "cell_type": "code",
   "execution_count": 6,
   "metadata": {
    "id": "4NtFNf29_SvG"
   },
   "outputs": [],
   "source": [
    "def build_images_database(path):\n",
    "    \"\"\"Build a pandas DataFrame with all images information.\n",
    "    \n",
    "    Parameters\n",
    "    ----------\n",
    "    path: path pattern to read csv files containing images information\n",
    "    \n",
    "    Returns\n",
    "    -------\n",
    "    A pandas DataFrame with one line per image\n",
    "    \"\"\"\n",
    "    df_list = []\n",
    "    for filename in glob.glob(path):\n",
    "        df = pd.read_csv(filename, sep=';')\n",
    "        df['path'] = os.path.dirname(filename) + '/' + df['Filename']\n",
    "        df_list.append(df)\n",
    "    \n",
    "    return pd.concat(df_list, ignore_index=True)\n",
    "\n",
    "\n",
    "def build_images_list(filename_list, boxes_list=None):\n",
    "    \"\"\"Build a list of images as Numpy array\n",
    "    \n",
    "    Parameters\n",
    "    ----------\n",
    "    filename_list: list of images filenames\n",
    "    boxes_list: optional list of boxes for clipping within images. Boxes are 4-tuples (x1, y1, x2, y2).\n",
    "    \n",
    "    Returns\n",
    "    -------\n",
    "    A list of images as Numpy arrays\n",
    "    \n",
    "    \"\"\"\n",
    "    \n",
    "    # If no boxes_list is given, generate a fake boxes list with None boxes\n",
    "    # image.resize will take full size images if argument box == None\n",
    "    if boxes_list is None:\n",
    "        boxes_list = [None] * len(filename_list)\n",
    "        \n",
    "    assert len(filename_list) == len(boxes_list), \"filenames and boxes lists must have the same length\"\n",
    "    \n",
    "    images_list = []\n",
    "    for (filename, image_box) in zip(filename_list, boxes_list):\n",
    "        image = Image.open(filename)\n",
    "        image = image.resize((IMAGE_WIDTH, IMAGE_HEIGHT), box=image_box) # box argument clips image to (x1, y1, x2, y2)\n",
    "        image = np.array(image)\n",
    "        images_list.append(image)\n",
    "        \n",
    "    return images_list\n",
    "\n",
    "\n",
    "def build_classes_array(df, col_name='ClassId'):\n",
    "    \"\"\"Build a vector (numpy array) of classes\n",
    "    \n",
    "    Parameters\n",
    "    ----------\n",
    "    df: pandas DataFrame with a column containing classes id\n",
    "    \n",
    "    Returns\n",
    "    -------\n",
    "    Numpy array with image classes\n",
    "    \n",
    "    \"\"\"\n",
    "    return df[col_name].values\n"
   ]
  },
  {
   "cell_type": "code",
   "execution_count": 7,
   "metadata": {
    "colab": {
     "base_uri": "https://localhost:8080/",
     "height": 224
    },
    "id": "YM1HN0xT_SvL",
    "outputId": "b52af00d-a8cb-401c-9772-8c203d41ef4c"
   },
   "outputs": [
    {
     "data": {
      "text/html": [
       "<div>\n",
       "<style scoped>\n",
       "    .dataframe tbody tr th:only-of-type {\n",
       "        vertical-align: middle;\n",
       "    }\n",
       "\n",
       "    .dataframe tbody tr th {\n",
       "        vertical-align: top;\n",
       "    }\n",
       "\n",
       "    .dataframe thead th {\n",
       "        text-align: right;\n",
       "    }\n",
       "</style>\n",
       "<table border=\"1\" class=\"dataframe\">\n",
       "  <thead>\n",
       "    <tr style=\"text-align: right;\">\n",
       "      <th></th>\n",
       "      <th>Filename</th>\n",
       "      <th>Width</th>\n",
       "      <th>Height</th>\n",
       "      <th>Roi.X1</th>\n",
       "      <th>Roi.Y1</th>\n",
       "      <th>Roi.X2</th>\n",
       "      <th>Roi.Y2</th>\n",
       "      <th>ClassId</th>\n",
       "      <th>path</th>\n",
       "    </tr>\n",
       "  </thead>\n",
       "  <tbody>\n",
       "    <tr>\n",
       "      <th>0</th>\n",
       "      <td>00000_00000.ppm</td>\n",
       "      <td>29</td>\n",
       "      <td>30</td>\n",
       "      <td>5</td>\n",
       "      <td>6</td>\n",
       "      <td>24</td>\n",
       "      <td>25</td>\n",
       "      <td>0</td>\n",
       "      <td>../data/raw/GTSRB_Final_Training_Images/GTSRB/...</td>\n",
       "    </tr>\n",
       "    <tr>\n",
       "      <th>1</th>\n",
       "      <td>00000_00001.ppm</td>\n",
       "      <td>30</td>\n",
       "      <td>30</td>\n",
       "      <td>5</td>\n",
       "      <td>5</td>\n",
       "      <td>25</td>\n",
       "      <td>25</td>\n",
       "      <td>0</td>\n",
       "      <td>../data/raw/GTSRB_Final_Training_Images/GTSRB/...</td>\n",
       "    </tr>\n",
       "    <tr>\n",
       "      <th>2</th>\n",
       "      <td>00000_00002.ppm</td>\n",
       "      <td>30</td>\n",
       "      <td>30</td>\n",
       "      <td>5</td>\n",
       "      <td>5</td>\n",
       "      <td>25</td>\n",
       "      <td>25</td>\n",
       "      <td>0</td>\n",
       "      <td>../data/raw/GTSRB_Final_Training_Images/GTSRB/...</td>\n",
       "    </tr>\n",
       "    <tr>\n",
       "      <th>3</th>\n",
       "      <td>00000_00003.ppm</td>\n",
       "      <td>31</td>\n",
       "      <td>31</td>\n",
       "      <td>5</td>\n",
       "      <td>5</td>\n",
       "      <td>26</td>\n",
       "      <td>26</td>\n",
       "      <td>0</td>\n",
       "      <td>../data/raw/GTSRB_Final_Training_Images/GTSRB/...</td>\n",
       "    </tr>\n",
       "    <tr>\n",
       "      <th>4</th>\n",
       "      <td>00000_00004.ppm</td>\n",
       "      <td>30</td>\n",
       "      <td>32</td>\n",
       "      <td>5</td>\n",
       "      <td>6</td>\n",
       "      <td>25</td>\n",
       "      <td>26</td>\n",
       "      <td>0</td>\n",
       "      <td>../data/raw/GTSRB_Final_Training_Images/GTSRB/...</td>\n",
       "    </tr>\n",
       "  </tbody>\n",
       "</table>\n",
       "</div>"
      ],
      "text/plain": [
       "          Filename  Width  Height  Roi.X1  Roi.Y1  Roi.X2  Roi.Y2  ClassId  \\\n",
       "0  00000_00000.ppm     29      30       5       6      24      25        0   \n",
       "1  00000_00001.ppm     30      30       5       5      25      25        0   \n",
       "2  00000_00002.ppm     30      30       5       5      25      25        0   \n",
       "3  00000_00003.ppm     31      31       5       5      26      26        0   \n",
       "4  00000_00004.ppm     30      32       5       6      25      26        0   \n",
       "\n",
       "                                                path  \n",
       "0  ../data/raw/GTSRB_Final_Training_Images/GTSRB/...  \n",
       "1  ../data/raw/GTSRB_Final_Training_Images/GTSRB/...  \n",
       "2  ../data/raw/GTSRB_Final_Training_Images/GTSRB/...  \n",
       "3  ../data/raw/GTSRB_Final_Training_Images/GTSRB/...  \n",
       "4  ../data/raw/GTSRB_Final_Training_Images/GTSRB/...  "
      ]
     },
     "execution_count": 7,
     "metadata": {},
     "output_type": "execute_result"
    }
   ],
   "source": [
    "images_df = build_images_database(TRAINING_CSV_PATH)\n",
    "images_df.head()"
   ]
  },
  {
   "cell_type": "code",
   "execution_count": 8,
   "metadata": {
    "colab": {
     "base_uri": "https://localhost:8080/"
    },
    "id": "nS9Pm6vG_SvN",
    "outputId": "734a61ff-db72-4589-d86c-ab2097d8eea8"
   },
   "outputs": [
    {
     "data": {
      "text/plain": [
       "array([ 0,  0,  0, ..., 42, 42, 42], dtype=int64)"
      ]
     },
     "execution_count": 8,
     "metadata": {},
     "output_type": "execute_result"
    }
   ],
   "source": [
    "build_classes_array(images_df)"
   ]
  },
  {
   "cell_type": "code",
   "execution_count": 9,
   "metadata": {
    "colab": {
     "base_uri": "https://localhost:8080/",
     "height": 265
    },
    "id": "ECaB5bAS_SvO",
    "outputId": "21be6a76-8088-4a78-c785-0bab5159e345"
   },
   "outputs": [
    {
     "data": {
      "image/png": "[encoded data removed]",
      "text/plain": [
       "<Figure size 432x288 with 1 Axes>"
      ]
     },
     "metadata": {
      "needs_background": "light"
     },
     "output_type": "display_data"
    }
   ],
   "source": [
    "(images_df['Roi.X2'] - images_df['Roi.X1']).hist(bins=100);"
   ]
  },
  {
   "cell_type": "code",
   "execution_count": 10,
   "metadata": {
    "colab": {
     "base_uri": "https://localhost:8080/"
    },
    "id": "H5P9OJ10_SvQ",
    "outputId": "59e2f51f-babd-42dd-c410-71c932146f01"
   },
   "outputs": [
    {
     "data": {
      "text/plain": [
       "32.0"
      ]
     },
     "execution_count": 10,
     "metadata": {},
     "output_type": "execute_result"
    }
   ],
   "source": [
    "(images_df['Roi.Y2'] - images_df['Roi.Y1']).median()"
   ]
  },
  {
   "cell_type": "code",
   "execution_count": 11,
   "metadata": {
    "colab": {
     "base_uri": "https://localhost:8080/",
     "height": 286
    },
    "id": "DUL0sP1o_SvQ",
    "outputId": "a9027eb5-2ab8-4871-bf85-010b57240daf"
   },
   "outputs": [
    {
     "data": {
      "text/plain": [
       "<matplotlib.image.AxesImage at 0x1efe5e01dc0>"
      ]
     },
     "execution_count": 11,
     "metadata": {},
     "output_type": "execute_result"
    },
    {
     "data": {
      "image/png": "[encoded data removed]",
      "text/plain": [
       "<Figure size 432x288 with 1 Axes>"
      ]
     },
     "metadata": {
      "needs_background": "light"
     },
     "output_type": "display_data"
    }
   ],
   "source": [
    "plt.imshow(Image.open(images_df.query('Width == 162')['path'].values[0]))"
   ]
  },
  {
   "cell_type": "code",
   "execution_count": 12,
   "metadata": {
    "colab": {
     "base_uri": "https://localhost:8080/",
     "height": 283
    },
    "id": "cFQkufbe_SvR",
    "outputId": "470036a9-7638-4726-ccaa-adb6add0bbe7"
   },
   "outputs": [
    {
     "data": {
      "text/plain": [
       "<matplotlib.image.AxesImage at 0x1efe5e83370>"
      ]
     },
     "execution_count": 12,
     "metadata": {},
     "output_type": "execute_result"
    },
    {
     "data": {
      "image/png": "[encoded data removed]",
      "text/plain": [
       "<Figure size 432x288 with 1 Axes>"
      ]
     },
     "metadata": {
      "needs_background": "light"
     },
     "output_type": "display_data"
    }
   ],
   "source": [
    "plt.imshow(Image.open(images_df.query('Width == 162')['path'].values[0]).resize((IMAGE_WIDTH, IMAGE_HEIGHT)))"
   ]
  },
  {
   "cell_type": "markdown",
   "metadata": {
    "id": "VqJqqW76_Sva"
   },
   "source": [
    "# Building the learning database"
   ]
  },
  {
   "cell_type": "code",
   "execution_count": 13,
   "metadata": {
    "colab": {
     "base_uri": "https://localhost:8080/"
    },
    "id": "s9ZniEMX_Sve",
    "outputId": "8fd3bc5e-8dd4-40da-d773-e8c143dc2b82"
   },
   "outputs": [
    {
     "data": {
      "text/plain": [
       "(39209, 9)"
      ]
     },
     "execution_count": 13,
     "metadata": {},
     "output_type": "execute_result"
    }
   ],
   "source": [
    "images_df.shape"
   ]
  },
  {
   "cell_type": "code",
   "execution_count": 14,
   "metadata": {
    "colab": {
     "base_uri": "https://localhost:8080/",
     "height": 224
    },
    "id": "aXMQ4X6X_Svg",
    "outputId": "f0a44fa9-942a-411a-daac-0e510d143c5f"
   },
   "outputs": [
    {
     "data": {
      "text/html": [
       "<div>\n",
       "<style scoped>\n",
       "    .dataframe tbody tr th:only-of-type {\n",
       "        vertical-align: middle;\n",
       "    }\n",
       "\n",
       "    .dataframe tbody tr th {\n",
       "        vertical-align: top;\n",
       "    }\n",
       "\n",
       "    .dataframe thead th {\n",
       "        text-align: right;\n",
       "    }\n",
       "</style>\n",
       "<table border=\"1\" class=\"dataframe\">\n",
       "  <thead>\n",
       "    <tr style=\"text-align: right;\">\n",
       "      <th></th>\n",
       "      <th>Filename</th>\n",
       "      <th>Width</th>\n",
       "      <th>Height</th>\n",
       "      <th>Roi.X1</th>\n",
       "      <th>Roi.Y1</th>\n",
       "      <th>Roi.X2</th>\n",
       "      <th>Roi.Y2</th>\n",
       "      <th>ClassId</th>\n",
       "      <th>path</th>\n",
       "    </tr>\n",
       "  </thead>\n",
       "  <tbody>\n",
       "    <tr>\n",
       "      <th>0</th>\n",
       "      <td>00000_00000.ppm</td>\n",
       "      <td>29</td>\n",
       "      <td>30</td>\n",
       "      <td>5</td>\n",
       "      <td>6</td>\n",
       "      <td>24</td>\n",
       "      <td>25</td>\n",
       "      <td>0</td>\n",
       "      <td>../data/raw/GTSRB_Final_Training_Images/GTSRB/...</td>\n",
       "    </tr>\n",
       "    <tr>\n",
       "      <th>1</th>\n",
       "      <td>00000_00001.ppm</td>\n",
       "      <td>30</td>\n",
       "      <td>30</td>\n",
       "      <td>5</td>\n",
       "      <td>5</td>\n",
       "      <td>25</td>\n",
       "      <td>25</td>\n",
       "      <td>0</td>\n",
       "      <td>../data/raw/GTSRB_Final_Training_Images/GTSRB/...</td>\n",
       "    </tr>\n",
       "    <tr>\n",
       "      <th>2</th>\n",
       "      <td>00000_00002.ppm</td>\n",
       "      <td>30</td>\n",
       "      <td>30</td>\n",
       "      <td>5</td>\n",
       "      <td>5</td>\n",
       "      <td>25</td>\n",
       "      <td>25</td>\n",
       "      <td>0</td>\n",
       "      <td>../data/raw/GTSRB_Final_Training_Images/GTSRB/...</td>\n",
       "    </tr>\n",
       "    <tr>\n",
       "      <th>3</th>\n",
       "      <td>00000_00003.ppm</td>\n",
       "      <td>31</td>\n",
       "      <td>31</td>\n",
       "      <td>5</td>\n",
       "      <td>5</td>\n",
       "      <td>26</td>\n",
       "      <td>26</td>\n",
       "      <td>0</td>\n",
       "      <td>../data/raw/GTSRB_Final_Training_Images/GTSRB/...</td>\n",
       "    </tr>\n",
       "    <tr>\n",
       "      <th>4</th>\n",
       "      <td>00000_00004.ppm</td>\n",
       "      <td>30</td>\n",
       "      <td>32</td>\n",
       "      <td>5</td>\n",
       "      <td>6</td>\n",
       "      <td>25</td>\n",
       "      <td>26</td>\n",
       "      <td>0</td>\n",
       "      <td>../data/raw/GTSRB_Final_Training_Images/GTSRB/...</td>\n",
       "    </tr>\n",
       "  </tbody>\n",
       "</table>\n",
       "</div>"
      ],
      "text/plain": [
       "          Filename  Width  Height  Roi.X1  Roi.Y1  Roi.X2  Roi.Y2  ClassId  \\\n",
       "0  00000_00000.ppm     29      30       5       6      24      25        0   \n",
       "1  00000_00001.ppm     30      30       5       5      25      25        0   \n",
       "2  00000_00002.ppm     30      30       5       5      25      25        0   \n",
       "3  00000_00003.ppm     31      31       5       5      26      26        0   \n",
       "4  00000_00004.ppm     30      32       5       6      25      26        0   \n",
       "\n",
       "                                                path  \n",
       "0  ../data/raw/GTSRB_Final_Training_Images/GTSRB/...  \n",
       "1  ../data/raw/GTSRB_Final_Training_Images/GTSRB/...  \n",
       "2  ../data/raw/GTSRB_Final_Training_Images/GTSRB/...  \n",
       "3  ../data/raw/GTSRB_Final_Training_Images/GTSRB/...  \n",
       "4  ../data/raw/GTSRB_Final_Training_Images/GTSRB/...  "
      ]
     },
     "execution_count": 14,
     "metadata": {},
     "output_type": "execute_result"
    }
   ],
   "source": [
    "images_df.head()"
   ]
  },
  {
   "cell_type": "code",
   "execution_count": 15,
   "metadata": {
    "colab": {
     "base_uri": "https://localhost:8080/"
    },
    "id": "rjHZLo95_Svh",
    "outputId": "573f8ba9-97a8-47d7-cbd3-1e2d83f97473"
   },
   "outputs": [
    {
     "name": "stdout",
     "output_type": "stream",
     "text": [
      "(39209, 30, 30, 3) (39209,)\n"
     ]
    }
   ],
   "source": [
    "N = None #N: number of image - Take all images if None\n",
    "\n",
    "if N is None:\n",
    "    images_list = build_images_list(images_df.head(N)['path'].values,\n",
    "                                images_df.head(N).apply(lambda r: (r['Roi.X1'], r['Roi.Y1'], r['Roi.X2'], r['Roi.Y2']),\n",
    "                                                          axis=1).values)\n",
    "    data = np.array(images_list)\n",
    "    labels = build_classes_array(images_df)\n",
    "    \n",
    "else:\n",
    "    images_list = build_images_list(images_df.head(N)['path'].values,\n",
    "                                images_df.head(N).apply(lambda r: (r['Roi.X1'], r['Roi.Y1'], r['Roi.X2'], r['Roi.Y2']),\n",
    "                                                          axis=1).values)\n",
    "    data = np.array(images_list)\n",
    "    labels = build_classes_array(images_df)[:N]\n",
    "\n",
    "print(data.shape, labels.shape)"
   ]
  },
  {
   "cell_type": "code",
   "execution_count": 16,
   "metadata": {
    "colab": {
     "base_uri": "https://localhost:8080/"
    },
    "id": "2l1QAIuc_Svi",
    "outputId": "657e9caa-6d75-447a-85b4-8e7b3b087343"
   },
   "outputs": [
    {
     "name": "stdout",
     "output_type": "stream",
     "text": [
      "(31367, 30, 30, 3) (7842, 30, 30, 3) (31367,) (7842,)\n"
     ]
    }
   ],
   "source": [
    "#Splitting training and testing dataset\n",
    "X_train, X_test, y_train, y_test = train_test_split(data, labels, test_size=0.2, random_state=42)\n",
    "\n",
    "print(X_train.shape, X_test.shape, y_train.shape, y_test.shape)"
   ]
  },
  {
   "cell_type": "code",
   "execution_count": 17,
   "metadata": {
    "id": "ZLF8p0frkKnd"
   },
   "outputs": [],
   "source": [
    "#Converting the labels into one hot encoding\n",
    "y_train = to_categorical(y_train, 43)\n",
    "y_test = to_categorical(y_test, 43)"
   ]
  },
  {
   "cell_type": "markdown",
   "metadata": {},
   "source": [
    "# Training the model"
   ]
  },
  {
   "cell_type": "code",
   "execution_count": 36,
   "metadata": {
    "colab": {
     "base_uri": "https://localhost:8080/"
    },
    "id": "2w7FAOaj_Svi",
    "outputId": "492125e5-81db-43a7-e0c7-b5a610de929c"
   },
   "outputs": [
    {
     "name": "stdout",
     "output_type": "stream",
     "text": [
      "Model: \"sequential\"\n",
      "_________________________________________________________________\n",
      "Layer (type)                 Output Shape              Param #   \n",
      "=================================================================\n",
      "conv2d (Conv2D)              (None, 26, 26, 32)        2432      \n",
      "_________________________________________________________________\n",
      "conv2d_1 (Conv2D)            (None, 22, 22, 32)        25632     \n",
      "_________________________________________________________________\n",
      "max_pooling2d (MaxPooling2D) (None, 11, 11, 32)        0         \n",
      "_________________________________________________________________\n",
      "dropout (Dropout)            (None, 11, 11, 32)        0         \n",
      "_________________________________________________________________\n",
      "conv2d_2 (Conv2D)            (None, 9, 9, 64)          18496     \n",
      "_________________________________________________________________\n",
      "conv2d_3 (Conv2D)            (None, 7, 7, 64)          36928     \n",
      "_________________________________________________________________\n",
      "max_pooling2d_1 (MaxPooling2 (None, 3, 3, 64)          0         \n",
      "_________________________________________________________________\n",
      "dropout_1 (Dropout)          (None, 3, 3, 64)          0         \n",
      "_________________________________________________________________\n",
      "flatten (Flatten)            (None, 576)               0         \n",
      "_________________________________________________________________\n",
      "dense (Dense)                (None, 256)               147712    \n",
      "_________________________________________________________________\n",
      "dropout_2 (Dropout)          (None, 256)               0         \n",
      "_________________________________________________________________\n",
      "dense_1 (Dense)              (None, 43)                11051     \n",
      "=================================================================\n",
      "Total params: 242,251\n",
      "Trainable params: 242,251\n",
      "Non-trainable params: 0\n",
      "_________________________________________________________________\n"
     ]
    }
   ],
   "source": [
    "# Compilation of the model\n",
    "model = Sequential()\n",
    "model.add(Conv2D(filters=32, kernel_size=(5,5), activation='relu', input_shape=X_train.shape[1:]))\n",
    "model.add(Conv2D(filters=32, kernel_size=(5,5), activation='relu'))\n",
    "model.add(MaxPool2D(pool_size=(2, 2)))\n",
    "model.add(Dropout(rate=0.25))\n",
    "model.add(Conv2D(filters=64, kernel_size=(3, 3), activation='relu'))\n",
    "model.add(Conv2D(filters=64, kernel_size=(3, 3), activation='relu'))\n",
    "model.add(MaxPool2D(pool_size=(2, 2)))\n",
    "model.add(Dropout(rate=0.25))\n",
    "model.add(Flatten())\n",
    "model.add(Dense(256, activation='relu'))\n",
    "model.add(Dropout(rate=0.5))\n",
    "model.add(Dense(43, activation='softmax'))\n",
    "model.compile(loss='categorical_crossentropy', optimizer='adam', metrics=['accuracy'])\n",
    "\n",
    "model.summary()\n"
   ]
  },
  {
   "cell_type": "code",
   "execution_count": 37,
   "metadata": {
    "colab": {
     "base_uri": "https://localhost:8080/"
    },
    "id": "8Pivt8JC_Svj",
    "outputId": "150925c6-f273-45fc-81c7-ca854cf3385d"
   },
   "outputs": [
    {
     "name": "stdout",
     "output_type": "stream",
     "text": [
      "Epoch 1/15\n",
      "981/981 [==============================] - 139s 141ms/step - loss: 1.7615 - accuracy: 0.5729 - val_loss: 0.4371 - val_accuracy: 0.8975\n",
      "Epoch 2/15\n",
      "981/981 [==============================] - 133s 135ms/step - loss: 0.5736 - accuracy: 0.8429 - val_loss: 0.2027 - val_accuracy: 0.9449\n",
      "Epoch 3/15\n",
      "981/981 [==============================] - 131s 133ms/step - loss: 0.3814 - accuracy: 0.8952 - val_loss: 0.1813 - val_accuracy: 0.9546\n",
      "Epoch 4/15\n",
      "981/981 [==============================] - 149s 151ms/step - loss: 0.3112 - accuracy: 0.9143 - val_loss: 0.1073 - val_accuracy: 0.9736\n",
      "Epoch 5/15\n",
      "981/981 [==============================] - 161s 164ms/step - loss: 0.2760 - accuracy: 0.9238 - val_loss: 0.1136 - val_accuracy: 0.9719\n",
      "Epoch 6/15\n",
      "981/981 [==============================] - 144s 147ms/step - loss: 0.2468 - accuracy: 0.9311 - val_loss: 0.0742 - val_accuracy: 0.9814\n",
      "Epoch 7/15\n",
      "981/981 [==============================] - 158s 161ms/step - loss: 0.2169 - accuracy: 0.9394 - val_loss: 0.0690 - val_accuracy: 0.9825\n",
      "Epoch 8/15\n",
      "981/981 [==============================] - 130s 132ms/step - loss: 0.2112 - accuracy: 0.9433 - val_loss: 0.0691 - val_accuracy: 0.9846\n",
      "Epoch 9/15\n",
      "981/981 [==============================] - 131s 134ms/step - loss: 0.1931 - accuracy: 0.9461 - val_loss: 0.0576 - val_accuracy: 0.9866\n",
      "Epoch 10/15\n",
      "981/981 [==============================] - 150s 152ms/step - loss: 0.1710 - accuracy: 0.9525 - val_loss: 0.0720 - val_accuracy: 0.9832\n",
      "Epoch 11/15\n",
      "981/981 [==============================] - 146s 149ms/step - loss: 0.1736 - accuracy: 0.9527 - val_loss: 0.0468 - val_accuracy: 0.9904\n",
      "Epoch 12/15\n",
      "981/981 [==============================] - 152s 155ms/step - loss: 0.1895 - accuracy: 0.9492 - val_loss: 0.0504 - val_accuracy: 0.9887\n",
      "Epoch 13/15\n",
      "981/981 [==============================] - 146s 149ms/step - loss: 0.1665 - accuracy: 0.9557 - val_loss: 0.0796 - val_accuracy: 0.9806\n",
      "Epoch 14/15\n",
      "981/981 [==============================] - 154s 157ms/step - loss: 0.1528 - accuracy: 0.9592 - val_loss: 0.0537 - val_accuracy: 0.9895\n",
      "Epoch 15/15\n",
      "981/981 [==============================] - 181s 185ms/step - loss: 0.1852 - accuracy: 0.9519 - val_loss: 0.0482 - val_accuracy: 0.9893\n"
     ]
    }
   ],
   "source": [
    "#%%time\n",
    "epochs = 15\n",
    "history = model.fit(X_train, y_train, batch_size=32, epochs=epochs, validation_data=(X_test, y_test))\n"
   ]
  },
  {
   "cell_type": "code",
   "execution_count": 40,
   "metadata": {
    "id": "r3sgHfvTFVmz"
   },
   "outputs": [],
   "source": [
    "# Save the model\n",
    "def save_classifier(model, basename):\n",
    "    \"\"\"Save to H5 format a TF model with a timestamp\n",
    "    \n",
    "    Paramaters\n",
    "    ----------\n",
    "    model: trained tf model\n",
    "    basename: basename including path to use for filename\n",
    "    \n",
    "    Returns\n",
    "    -------\n",
    "    None\n",
    "    \"\"\"\n",
    "    model.save('{}_{}.h5'.format(basename, datetime.datetime.now().strftime('%Y-%m-%d_%H-%M-%S')))\n",
    "    return\n"
   ]
  },
  {
   "cell_type": "markdown",
   "metadata": {},
   "source": [
    "# Saving - loading the model"
   ]
  },
  {
   "cell_type": "code",
   "execution_count": 47,
   "metadata": {
    "id": "Z1mC43iQuzyq"
   },
   "outputs": [],
   "source": [
    "save_classifier(model,save_model_path+\"traffic_signs\")"
   ]
  },
  {
   "cell_type": "code",
   "execution_count": 19,
   "metadata": {
    "id": "XDQYzOQBwtwc"
   },
   "outputs": [],
   "source": [
    "# Loading the model\n",
    "model = tf.keras.models.load_model(load_model_path+'_2021-03-20_09-32-50.h5')"
   ]
  },
  {
   "cell_type": "markdown",
   "metadata": {},
   "source": [
    "# Performance of the model"
   ]
  },
  {
   "cell_type": "markdown",
   "metadata": {},
   "source": [
    "## Plotting graphs for accuracy"
   ]
  },
  {
   "cell_type": "code",
   "execution_count": 20,
   "metadata": {
    "colab": {
     "base_uri": "https://localhost:8080/",
     "height": 573
    },
    "id": "2oVgVnwtEkX4",
    "outputId": "f5783464-2a14-479e-fc56-cf03fe11e8f4"
   },
   "outputs": [
    {
     "ename": "NameError",
     "evalue": "name 'history' is not defined",
     "output_type": "error",
     "traceback": [
      "\u001b[1;31m---------------------------------------------------------------------------\u001b[0m",
      "\u001b[1;31mNameError\u001b[0m                                 Traceback (most recent call last)",
      "\u001b[1;32m<ipython-input-20-844ee0d1bc0e>\u001b[0m in \u001b[0;36m<module>\u001b[1;34m\u001b[0m\n\u001b[0;32m      1\u001b[0m \u001b[0mplt\u001b[0m\u001b[1;33m.\u001b[0m\u001b[0mfigure\u001b[0m\u001b[1;33m(\u001b[0m\u001b[1;36m0\u001b[0m\u001b[1;33m)\u001b[0m\u001b[1;33m\u001b[0m\u001b[1;33m\u001b[0m\u001b[0m\n\u001b[1;32m----> 2\u001b[1;33m \u001b[0mplt\u001b[0m\u001b[1;33m.\u001b[0m\u001b[0mplot\u001b[0m\u001b[1;33m(\u001b[0m\u001b[0mhistory\u001b[0m\u001b[1;33m.\u001b[0m\u001b[0mhistory\u001b[0m\u001b[1;33m[\u001b[0m\u001b[1;34m'accuracy'\u001b[0m\u001b[1;33m]\u001b[0m\u001b[1;33m,\u001b[0m \u001b[0mlabel\u001b[0m\u001b[1;33m=\u001b[0m\u001b[1;34m'training accuracy'\u001b[0m\u001b[1;33m)\u001b[0m\u001b[1;33m\u001b[0m\u001b[1;33m\u001b[0m\u001b[0m\n\u001b[0m\u001b[0;32m      3\u001b[0m \u001b[0mplt\u001b[0m\u001b[1;33m.\u001b[0m\u001b[0mplot\u001b[0m\u001b[1;33m(\u001b[0m\u001b[0mhistory\u001b[0m\u001b[1;33m.\u001b[0m\u001b[0mhistory\u001b[0m\u001b[1;33m[\u001b[0m\u001b[1;34m'val_accuracy'\u001b[0m\u001b[1;33m]\u001b[0m\u001b[1;33m,\u001b[0m \u001b[0mlabel\u001b[0m\u001b[1;33m=\u001b[0m\u001b[1;34m'val accuracy'\u001b[0m\u001b[1;33m)\u001b[0m\u001b[1;33m\u001b[0m\u001b[1;33m\u001b[0m\u001b[0m\n\u001b[0;32m      4\u001b[0m \u001b[0mplt\u001b[0m\u001b[1;33m.\u001b[0m\u001b[0mtitle\u001b[0m\u001b[1;33m(\u001b[0m\u001b[1;34m'Accuracy'\u001b[0m\u001b[1;33m)\u001b[0m\u001b[1;33m\u001b[0m\u001b[1;33m\u001b[0m\u001b[0m\n\u001b[0;32m      5\u001b[0m \u001b[0mplt\u001b[0m\u001b[1;33m.\u001b[0m\u001b[0mxlabel\u001b[0m\u001b[1;33m(\u001b[0m\u001b[1;34m'epochs'\u001b[0m\u001b[1;33m)\u001b[0m\u001b[1;33m\u001b[0m\u001b[1;33m\u001b[0m\u001b[0m\n",
      "\u001b[1;31mNameError\u001b[0m: name 'history' is not defined"
     ]
    },
    {
     "data": {
      "text/plain": [
       "<Figure size 432x288 with 0 Axes>"
      ]
     },
     "metadata": {},
     "output_type": "display_data"
    }
   ],
   "source": [
    "plt.figure(0)\n",
    "plt.plot(history.history['accuracy'], label='training accuracy')\n",
    "plt.plot(history.history['val_accuracy'], label='val accuracy')\n",
    "plt.title('Accuracy')\n",
    "plt.xlabel('epochs')\n",
    "plt.ylabel('accuracy')\n",
    "plt.legend()\n",
    "plt.show()\n",
    "\n",
    "plt.figure(1)\n",
    "plt.plot(history.history['loss'], label='training loss')\n",
    "plt.plot(history.history['val_loss'], label='val loss')\n",
    "plt.title('Loss')\n",
    "plt.xlabel('epochs')\n",
    "plt.ylabel('loss')\n",
    "plt.legend()\n",
    "plt.show()"
   ]
  },
  {
   "cell_type": "markdown",
   "metadata": {
    "id": "3s6OCCLKGxkh"
   },
   "source": [
    "## Evaluating performance on the test set"
   ]
  },
  {
   "cell_type": "markdown",
   "metadata": {
    "id": "aqW3SQAOGult"
   },
   "source": [
    "### Classify images"
   ]
  },
  {
   "cell_type": "code",
   "execution_count": 21,
   "metadata": {
    "id": "8eG7JdkUGisP"
   },
   "outputs": [],
   "source": [
    "def classify_image(path, model, image_box=None):\n",
    "    \"\"\"Classify image by model\n",
    "    \n",
    "    Parameters\n",
    "    ----------\n",
    "    path: filepath to image\n",
    "    model: tf/keras classifier\n",
    "    \n",
    "    Returns\n",
    "    -------\n",
    "    class id returned by model classifier\n",
    "    \"\"\"\n",
    "    images_list = []\n",
    "    image = Image.open(path)\n",
    "    image = image.resize((IMAGE_WIDTH, IMAGE_HEIGHT), box=image_box) # box argument clips image to (x1, y1, x2, y2)\n",
    "    image = np.array(image)\n",
    "    images_list.append(image)\n",
    "    \n",
    "    return model.predict_classes(np.array(images_list))\n"
   ]
  },
  {
   "cell_type": "code",
   "execution_count": 22,
   "metadata": {
    "colab": {
     "base_uri": "https://localhost:8080/"
    },
    "id": "95pXfK-3Hq0G",
    "outputId": "fb278aef-7182-43ef-c70a-df30d7605031"
   },
   "outputs": [
    {
     "name": "stdout",
     "output_type": "stream",
     "text": [
      "WARNING:tensorflow:From <ipython-input-21-0a377df92f7d>:19: Sequential.predict_classes (from tensorflow.python.keras.engine.sequential) is deprecated and will be removed after 2021-01-01.\n",
      "Instructions for updating:\n",
      "Please use instead:* `np.argmax(model.predict(x), axis=-1)`,   if your model does multi-class classification   (e.g. if it uses a `softmax` last-layer activation).* `(model.predict(x) > 0.5).astype(\"int32\")`,   if your model does binary classification   (e.g. if it uses a `sigmoid` last-layer activation).\n"
     ]
    },
    {
     "data": {
      "text/plain": [
       "array([10], dtype=int64)"
      ]
     },
     "execution_count": 22,
     "metadata": {},
     "output_type": "execute_result"
    }
   ],
   "source": [
    "image_sample = images_df.sample(1)\n",
    "\n",
    "classify_image(image_sample['path'].values[0],\n",
    "               model,\n",
    "               image_sample.apply(lambda r: (r['Roi.X1'], r['Roi.Y1'], r['Roi.X2'], r['Roi.Y2']),\n",
    "                                  axis=1).values[0])"
   ]
  },
  {
   "cell_type": "code",
   "execution_count": 23,
   "metadata": {
    "colab": {
     "base_uri": "https://localhost:8080/",
     "height": 284
    },
    "id": "YRKh093kJLIK",
    "outputId": "3896869a-27c1-4765-f457-e598cdb3692a"
   },
   "outputs": [
    {
     "data": {
      "text/plain": [
       "<matplotlib.image.AxesImage at 0x1effbe88550>"
      ]
     },
     "execution_count": 23,
     "metadata": {},
     "output_type": "execute_result"
    },
    {
     "data": {
      "image/png": "[encoded data removed]",
      "text/plain": [
       "<Figure size 432x288 with 1 Axes>"
      ]
     },
     "metadata": {
      "needs_background": "light"
     },
     "output_type": "display_data"
    }
   ],
   "source": [
    "plt.imshow(Image.open(image_sample['path'].values[0]))"
   ]
  },
  {
   "cell_type": "code",
   "execution_count": 24,
   "metadata": {},
   "outputs": [],
   "source": [
    "def proba_image(path, model, image_box=None):\n",
    "    \"\"\"Probabilities of traffic signs for an image by model\n",
    "    \n",
    "    Parameters\n",
    "    ----------\n",
    "    path: filepath to image\n",
    "    model: tf/keras classifier\n",
    "    \n",
    "    Returns\n",
    "    -------\n",
    "    list of probabilities of each traffic signs\n",
    "    \"\"\"\n",
    "    images_list = []\n",
    "    image = Image.open(path)\n",
    "    image = image.resize((IMAGE_WIDTH, IMAGE_HEIGHT), box=image_box) # box argument clips image to (x1, y1, x2, y2)\n",
    "    image = np.array(image)\n",
    "    images_list.append(image)\n",
    "    \n",
    "    return model.predict(np.array(images_list)).tolist()[0]"
   ]
  },
  {
   "cell_type": "code",
   "execution_count": 25,
   "metadata": {},
   "outputs": [],
   "source": [
    "proba_sample= proba_image(image_sample['path'].values[0],\n",
    "               model,\n",
    "               image_sample.apply(lambda r: (r['Roi.X1'], r['Roi.Y1'], r['Roi.X2'], r['Roi.Y2']),\n",
    "                                  axis=1).values[0])"
   ]
  },
  {
   "cell_type": "code",
   "execution_count": 26,
   "metadata": {},
   "outputs": [
    {
     "data": {
      "image/png": "[encoded data removed]",
      "text/plain": [
       "<Figure size 432x288 with 1 Axes>"
      ]
     },
     "metadata": {
      "needs_background": "light"
     },
     "output_type": "display_data"
    }
   ],
   "source": [
    "nb_class = np.arange(1,44)\n",
    "\n",
    "plt.bar(nb_class, proba_sample, align='center')\n",
    "plt.ylabel('Probabilité')\n",
    "plt.xlabel('Type de panneaux')\n",
    "plt.title('Probabilités pour chaque type de panneaux')\n",
    "\n",
    "plt.show()"
   ]
  },
  {
   "cell_type": "markdown",
   "metadata": {
    "id": "8yswC0AsHWJL"
   },
   "source": [
    "### Load test images"
   ]
  },
  {
   "cell_type": "code",
   "execution_count": 28,
   "metadata": {
    "colab": {
     "base_uri": "https://localhost:8080/",
     "height": 204
    },
    "id": "VsHGFKaP08e4",
    "outputId": "7192a7b3-66b2-45d9-fac0-bbb591183f2b"
   },
   "outputs": [
    {
     "data": {
      "text/html": [
       "<div>\n",
       "<style scoped>\n",
       "    .dataframe tbody tr th:only-of-type {\n",
       "        vertical-align: middle;\n",
       "    }\n",
       "\n",
       "    .dataframe tbody tr th {\n",
       "        vertical-align: top;\n",
       "    }\n",
       "\n",
       "    .dataframe thead th {\n",
       "        text-align: right;\n",
       "    }\n",
       "</style>\n",
       "<table border=\"1\" class=\"dataframe\">\n",
       "  <thead>\n",
       "    <tr style=\"text-align: right;\">\n",
       "      <th></th>\n",
       "      <th>Filename</th>\n",
       "      <th>Width</th>\n",
       "      <th>Height</th>\n",
       "      <th>Roi.X1</th>\n",
       "      <th>Roi.Y1</th>\n",
       "      <th>Roi.X2</th>\n",
       "      <th>Roi.Y2</th>\n",
       "      <th>ClassId</th>\n",
       "      <th>path</th>\n",
       "    </tr>\n",
       "  </thead>\n",
       "  <tbody>\n",
       "    <tr>\n",
       "      <th>12625</th>\n",
       "      <td>12625.ppm</td>\n",
       "      <td>42</td>\n",
       "      <td>41</td>\n",
       "      <td>5</td>\n",
       "      <td>6</td>\n",
       "      <td>37</td>\n",
       "      <td>36</td>\n",
       "      <td>12</td>\n",
       "      <td>../data/raw/GTSRB_Final_Test_Images/GTSRB/Fina...</td>\n",
       "    </tr>\n",
       "    <tr>\n",
       "      <th>12626</th>\n",
       "      <td>12626.ppm</td>\n",
       "      <td>50</td>\n",
       "      <td>51</td>\n",
       "      <td>6</td>\n",
       "      <td>5</td>\n",
       "      <td>45</td>\n",
       "      <td>46</td>\n",
       "      <td>33</td>\n",
       "      <td>../data/raw/GTSRB_Final_Test_Images/GTSRB/Fina...</td>\n",
       "    </tr>\n",
       "    <tr>\n",
       "      <th>12627</th>\n",
       "      <td>12627.ppm</td>\n",
       "      <td>29</td>\n",
       "      <td>29</td>\n",
       "      <td>6</td>\n",
       "      <td>6</td>\n",
       "      <td>24</td>\n",
       "      <td>24</td>\n",
       "      <td>6</td>\n",
       "      <td>../data/raw/GTSRB_Final_Test_Images/GTSRB/Fina...</td>\n",
       "    </tr>\n",
       "    <tr>\n",
       "      <th>12628</th>\n",
       "      <td>12628.ppm</td>\n",
       "      <td>48</td>\n",
       "      <td>49</td>\n",
       "      <td>5</td>\n",
       "      <td>6</td>\n",
       "      <td>43</td>\n",
       "      <td>44</td>\n",
       "      <td>7</td>\n",
       "      <td>../data/raw/GTSRB_Final_Test_Images/GTSRB/Fina...</td>\n",
       "    </tr>\n",
       "    <tr>\n",
       "      <th>12629</th>\n",
       "      <td>12629.ppm</td>\n",
       "      <td>32</td>\n",
       "      <td>31</td>\n",
       "      <td>6</td>\n",
       "      <td>5</td>\n",
       "      <td>27</td>\n",
       "      <td>26</td>\n",
       "      <td>10</td>\n",
       "      <td>../data/raw/GTSRB_Final_Test_Images/GTSRB/Fina...</td>\n",
       "    </tr>\n",
       "  </tbody>\n",
       "</table>\n",
       "</div>"
      ],
      "text/plain": [
       "        Filename  Width  Height  Roi.X1  Roi.Y1  Roi.X2  Roi.Y2  ClassId  \\\n",
       "12625  12625.ppm     42      41       5       6      37      36       12   \n",
       "12626  12626.ppm     50      51       6       5      45      46       33   \n",
       "12627  12627.ppm     29      29       6       6      24      24        6   \n",
       "12628  12628.ppm     48      49       5       6      43      44        7   \n",
       "12629  12629.ppm     32      31       6       5      27      26       10   \n",
       "\n",
       "                                                    path  \n",
       "12625  ../data/raw/GTSRB_Final_Test_Images/GTSRB/Fina...  \n",
       "12626  ../data/raw/GTSRB_Final_Test_Images/GTSRB/Fina...  \n",
       "12627  ../data/raw/GTSRB_Final_Test_Images/GTSRB/Fina...  \n",
       "12628  ../data/raw/GTSRB_Final_Test_Images/GTSRB/Fina...  \n",
       "12629  ../data/raw/GTSRB_Final_Test_Images/GTSRB/Fina...  "
      ]
     },
     "execution_count": 28,
     "metadata": {},
     "output_type": "execute_result"
    }
   ],
   "source": [
    "test_images_df = pd.read_csv(TEST_GT, sep=';')\n",
    "test_images_df['path'] = test_images_df['Filename'].apply(lambda x: TEST_IMAGES_PATH + x)\n",
    "test_images_df.tail()"
   ]
  },
  {
   "cell_type": "code",
   "execution_count": 64,
   "metadata": {
    "id": "FIiGE7EL1N13"
   },
   "outputs": [],
   "source": [
    "test_list = build_images_list(test_images_df['path'].values,\n",
    "                                test_images_df.apply(lambda r: (r['Roi.X1'], r['Roi.Y1'], r['Roi.X2'], r['Roi.Y2']),\n",
    "                                                          axis=1).values)\n",
    "test_data = np.array(test_list)\n",
    "test_labels = build_classes_array(test_images_df)"
   ]
  },
  {
   "cell_type": "code",
   "execution_count": 65,
   "metadata": {
    "colab": {
     "base_uri": "https://localhost:8080/"
    },
    "id": "oMWotsKc1OQQ",
    "outputId": "96faae85-2a46-46e7-c807-0bead2369729"
   },
   "outputs": [],
   "source": [
    "#%%time\n",
    "results = test_model.predict_classes(test_data)"
   ]
  },
  {
   "cell_type": "code",
   "execution_count": 66,
   "metadata": {
    "colab": {
     "base_uri": "https://localhost:8080/"
    },
    "id": "kAkJYTrg4GJZ",
    "outputId": "720b059f-81cd-4719-f66f-46b63269435d"
   },
   "outputs": [
    {
     "data": {
      "text/plain": [
       "0.9557403008709422"
      ]
     },
     "execution_count": 66,
     "metadata": {},
     "output_type": "execute_result"
    }
   ],
   "source": [
    "(test_labels == results).sum() / test_labels.shape[0]"
   ]
  },
  {
   "cell_type": "markdown",
   "metadata": {
    "id": "xaHTSAVaG530"
   },
   "source": [
    "### Compare actual to predicted (class level)"
   ]
  },
  {
   "cell_type": "code",
   "execution_count": 67,
   "metadata": {
    "colab": {
     "base_uri": "https://localhost:8080/"
    },
    "id": "rZzjMkmGCJDo",
    "outputId": "255087b2-6b48-4089-cf02-2f699d7f2521"
   },
   "outputs": [
    {
     "data": {
      "text/plain": [
       "array([16,  1, 38, ..., 42,  7, 10], dtype=int64)"
      ]
     },
     "execution_count": 67,
     "metadata": {},
     "output_type": "execute_result"
    }
   ],
   "source": [
    "np.transpose(results)"
   ]
  },
  {
   "cell_type": "code",
   "execution_count": 68,
   "metadata": {
    "id": "LELKzkY9CRmg"
   },
   "outputs": [],
   "source": [
    "accuracy_df = pd.DataFrame()\n",
    "accuracy_df['actual'] = test_labels\n",
    "accuracy_df['predicted'] = results"
   ]
  },
  {
   "cell_type": "code",
   "execution_count": 69,
   "metadata": {
    "colab": {
     "base_uri": "https://localhost:8080/",
     "height": 612
    },
    "id": "shVeAGvACtP5",
    "outputId": "ca74672f-9c55-4827-fa20-38b6dbc75e9f"
   },
   "outputs": [
    {
     "data": {
      "image/png": "[encoded data removed]",
      "text/plain": [
       "<Figure size 864x720 with 2 Axes>"
      ]
     },
     "metadata": {
      "needs_background": "light"
     },
     "output_type": "display_data"
    }
   ],
   "source": [
    "import seaborn as sns\n",
    "\n",
    "fig, ax = plt.subplots(figsize=(12, 10))\n",
    "\n",
    "sns.heatmap(pd.crosstab(accuracy_df['actual'], accuracy_df['predicted'], normalize='index'), cmap='vlag');"
   ]
  },
  {
   "cell_type": "code",
   "execution_count": null,
   "metadata": {},
   "outputs": [],
   "source": []
  }
 ],
 "metadata": {
  "accelerator": "TPU",
  "colab": {
   "collapsed_sections": [],
   "name": "reading_images.ipynb",
   "provenance": [],
   "toc_visible": true
  },
  "kernelspec": {
   "display_name": "traffic",
   "language": "python",
   "name": "traffic"
  },
  "language_info": {
   "codemirror_mode": {
    "name": "ipython",
    "version": 3
   },
   "file_extension": ".py",
   "mimetype": "text/x-python",
   "name": "python",
   "nbconvert_exporter": "python",
   "pygments_lexer": "ipython3",
   "version": "3.8.8"
  }
 },
 "nbformat": 4,
 "nbformat_minor": 4
}
